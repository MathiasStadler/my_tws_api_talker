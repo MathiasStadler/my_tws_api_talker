{
 "cells": [
  {
   "cell_type": "markdown",
   "metadata": {},
   "source": [
    "# [FROM HERE](https://crates.io/crates/urlparse)"
   ]
  },
  {
   "cell_type": "markdown",
   "metadata": {},
   "source": [
    "## 1st example"
   ]
  },
  {
   "cell_type": "code",
   "execution_count": 3,
   "metadata": {},
   "outputs": [],
   "source": [
    ":dep urlparse"
   ]
  },
  {
   "cell_type": "code",
   "execution_count": 9,
   "metadata": {},
   "outputs": [],
   "source": [
    "extern crate urlparse;\n",
    "use urlparse::urlparse;\n",
    "use urlparse::GetQuery;  // Trait\n",
    "\n",
    "fn url_parse() {\n",
    "    let url = urlparse(\"http://www.example.com/foo?bar=123&col=println%21%28%22TEST%21%22%29&col=sub\");\n",
    "    let query = url.get_parsed_query().unwrap();\n",
    "    println!(\"{:?}\", url);\n",
    "    println!(\"{:?}\", query.get_first_from_str(\"col\"));\n",
    "}"
   ]
  },
  {
   "cell_type": "code",
   "execution_count": 10,
   "metadata": {},
   "outputs": [
    {
     "name": "stdout",
     "output_type": "stream",
     "text": [
      "Url { scheme: \"http\", netloc: \"www.example.com\", path: \"/foo\", query: Some(\"bar=123&col=println%21%28%22TEST%21%22%29&col=sub\"), fragment: None, username: None, password: None, hostname: Some(\"www.example.com\"), port: None }\n",
      "Some(\"println!(\\\"TEST!\\\")\")\n"
     ]
    },
    {
     "data": {
      "text/plain": [
       "()"
      ]
     },
     "execution_count": 10,
     "metadata": {},
     "output_type": "execute_result"
    }
   ],
   "source": [
    "url_parse()"
   ]
  },
  {
   "cell_type": "markdown",
   "metadata": {},
   "source": [
    "# url to Lynx"
   ]
  },
  {
   "cell_type": "code",
   "execution_count": 12,
   "metadata": {},
   "outputs": [],
   "source": [
    ":dep reqwest"
   ]
  },
  {
   "cell_type": "code",
   "execution_count": null,
   "metadata": {},
   "outputs": [],
   "source": [
    "# reauthenticate\n",
    "def confirmStatus():\n",
    "    base_url = \"https://localhost:5000/v1/api/\"\n",
    "    endpoint = \"iserver/auth/status\"\n",
    "    \n",
    "    auth_req = requests.get(url=base_url+endpoint,verify=False)\n",
    "    print(auth_req)\n",
    "    print(auth_req.text)\n",
    "\n",
    "if __name__ == \"__main__\":\n",
    "    confirmStatus()"
   ]
  },
  {
   "cell_type": "markdown",
   "metadata": {},
   "source": []
  },
  {
   "cell_type": "code",
   "execution_count": null,
   "metadata": {},
   "outputs": [],
   "source": [
    "fn requests(){\n",
    "\n",
    "let body = reqwest::get(\"https://www.rust-lang.org\")\n",
    "    .await?\n",
    "    .text()\n",
    "    .await?;\n",
    "\n",
    "println!(\"body = {:?}\", body);\n",
    "}"
   ]
  },
  {
   "cell_type": "markdown",
   "metadata": {},
   "source": [
    "[](https://blog.logrocket.com/making-http-requests-rust-reqwest/)"
   ]
  }
 ],
 "metadata": {
  "kernelspec": {
   "display_name": "Rust",
   "language": "rust",
   "name": "rust"
  },
  "language_info": {
   "codemirror_mode": "rust",
   "file_extension": ".rs",
   "mimetype": "text/rust",
   "name": "rust",
   "pygment_lexer": "rust",
   "version": ""
  },
  "orig_nbformat": 4
 },
 "nbformat": 4,
 "nbformat_minor": 2
}
