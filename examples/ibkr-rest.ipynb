{
 "cells": [
  {
   "cell_type": "code",
   "execution_count": 2,
   "metadata": {
    "vscode": {
     "languageId": "rust"
    }
   },
   "outputs": [
    {
     "name": "stdout",
     "output_type": "stream",
     "text": [
      "Hello Rust\n"
     ]
    }
   ],
   "source": [
    "println!(\"Hello Rust\");"
   ]
  },
  {
   "cell_type": "markdown",
   "metadata": {},
   "source": [
    "# Test [Rust Crypto Ticker using Interactive Brokers' TWS API directly](https://www.splinter.com.au/2023/08/28/interactive-brokers-tws-api-rust-crypto-ticker/)"
   ]
  },
  {
   "cell_type": "markdown",
   "metadata": {},
   "source": [
    "## example from webpage"
   ]
  },
  {
   "cell_type": "markdown",
   "metadata": {},
   "source": [
    "# install full version TWS NOT Demo or try <- dosen't work"
   ]
  },
  {
   "cell_type": "markdown",
   "metadata": {},
   "source": [
    "# start in another bash shell follow command for monitoring the traffic to TWS"
   ]
  },
  {
   "cell_type": "raw",
   "metadata": {},
   "source": [
    "nc -z localhost 7496"
   ]
  },
  {
   "cell_type": "markdown",
   "metadata": {},
   "source": [
    "# Test TCP Stream"
   ]
  },
  {
   "cell_type": "code",
   "execution_count": 6,
   "metadata": {
    "vscode": {
     "languageId": "rust"
    }
   },
   "outputs": [],
   "source": [
    "use std::net::TcpStream;\n",
    "\n",
    "fn test_tcp_stream() {\n",
    "    let mut stream = TcpStream::connect(\"127.0.0.1:7497\").expect(\"connect\");\n",
    "    stream.set_nodelay(true).expect(\"nodelay\"); // Because we're wannabe HFT traders.\n",
    "    println!(\"Able to connect\")\n",
    "}"
   ]
  },
  {
   "cell_type": "code",
   "execution_count": null,
   "metadata": {
    "vscode": {
     "languageId": "rust"
    }
   },
   "outputs": [],
   "source": [
    "test_tcp_stream();"
   ]
  },
  {
   "cell_type": "code",
   "execution_count": 2,
   "metadata": {
    "vscode": {
     "languageId": "rust"
    }
   },
   "outputs": [],
   "source": [
    "fn add_length_prefix(bytes: &[u8]) -> Vec<u8> {\n",
    "    let len = bytes.len() as u32;\n",
    "    let mut data: Vec<u8> = Vec::new();\n",
    "    data.push(((len >> 24) & 0xff) as u8);\n",
    "    data.push(((len >> 16) & 0xff) as u8);\n",
    "    data.push(((len >> 8) & 0xff) as u8);\n",
    "    data.push((len & 0xff) as u8);\n",
    "    data.extend(bytes);\n",
    "    data\n",
    "}"
   ]
  },
  {
   "cell_type": "code",
   "execution_count": 3,
   "metadata": {
    "vscode": {
     "languageId": "rust"
    }
   },
   "outputs": [],
   "source": [
    "fn concat(a: &[u8], b: &[u8]) -> Vec<u8> {\n",
    "    let mut both = a.to_owned();\n",
    "    both.extend(b);\n",
    "    both\n",
    "}"
   ]
  },
  {
   "cell_type": "code",
   "execution_count": 5,
   "metadata": {
    "vscode": {
     "languageId": "rust"
    }
   },
   "outputs": [],
   "source": [
    "use std::io::{Read, Write}; // Add this up top.\n",
    "use std::net::TcpStream;\n",
    "\n",
    "const MIN_SERVER_VER_BOND_ISSUERID: u32 = 176; // From server_versions.py.\n",
    "const DESIRED_VERSION: u32 = MIN_SERVER_VER_BOND_ISSUERID;\n",
    "\n",
    "fn send_greeting(stream: &mut TcpStream) {\n",
    "    let prefix = \"API\\0\";\n",
    "    let version = format!(\"v{}..{}\", DESIRED_VERSION, DESIRED_VERSION);\n",
    "    let version_msg = add_length_prefix(version.as_bytes());\n",
    "    let both = concat(prefix.as_bytes(), &version_msg);\n",
    "    stream.write_all(&both).expect(\"Greeting\");\n",
    "}"
   ]
  },
  {
   "cell_type": "code",
   "execution_count": null,
   "metadata": {
    "vscode": {
     "languageId": "rust"
    }
   },
   "outputs": [],
   "source": [
    "send_greeting(&mut stream);\n",
    "println!(\"Greeting sent\");"
   ]
  },
  {
   "cell_type": "code",
   "execution_count": null,
   "metadata": {
    "vscode": {
     "languageId": "rust"
    }
   },
   "outputs": [],
   "source": [
    "fn read_length(reader: &mut TcpStream) -> u32 {\n",
    "    let mut len_buf: [u8; 4] = [0; 4];\n",
    "    reader.read_exact(&mut len_buf).expect(\"Read length\");\n",
    "    let length: u32 = ((len_buf[0] as u32) << 24)\n",
    "        | ((len_buf[1] as u32) << 16)\n",
    "        | ((len_buf[2] as u32) << 8)\n",
    "        | len_buf[3] as u32;\n",
    "    length\n",
    "}"
   ]
  },
  {
   "cell_type": "code",
   "execution_count": null,
   "metadata": {
    "vscode": {
     "languageId": "rust"
    }
   },
   "outputs": [],
   "source": [
    "fn split_message(message: &[u8]) -> Vec<String> {\n",
    "    // Split into an array of buffers:\n",
    "    let mut components = Vec::<Vec<u8>>::new();\n",
    "    let mut current_component = Vec::<u8>::new();\n",
    "    for byte in message {\n",
    "        if *byte == 0 {\n",
    "            if !current_component.is_empty() {\n",
    "                components.push(current_component.clone());\n",
    "                current_component.clear();\n",
    "            }\n",
    "        } else {\n",
    "            current_component.push(*byte);\n",
    "        }\n",
    "    }\n",
    "    if !current_component.is_empty() {\n",
    "        components.push(current_component);\n",
    "    }\n",
    "\n",
    "    // Convert the buffers into strings:\n",
    "    components\n",
    "        .into_iter()\n",
    "        .map(|v| String::from_utf8_lossy(&v).to_string())\n",
    "        .collect()\n",
    "}\n"
   ]
  },
  {
   "cell_type": "code",
   "execution_count": null,
   "metadata": {
    "vscode": {
     "languageId": "rust"
    }
   },
   "outputs": [],
   "source": []
  }
 ],
 "metadata": {
  "kernelspec": {
   "display_name": "Rust",
   "language": "rust",
   "name": "rust"
  },
  "language_info": {
   "codemirror_mode": "rust",
   "file_extension": ".rs",
   "mimetype": "text/rust",
   "name": "Rust",
   "pygment_lexer": "rust",
   "version": ""
  },
  "orig_nbformat": 4
 },
 "nbformat": 4,
 "nbformat_minor": 2
}
