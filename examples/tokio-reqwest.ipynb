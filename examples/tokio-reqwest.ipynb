{
 "cells": [
  {
   "cell_type": "markdown",
   "metadata": {},
   "source": [
    "[Creating our first get Reqwest /w Tokio](https://blog.logrocket.com/making-http-requests-rust-reqwest/)"
   ]
  },
  {
   "cell_type": "code",
   "execution_count": 2,
   "metadata": {
    "vscode": {
     "languageId": "rust"
    }
   },
   "outputs": [],
   "source": [
    ":dep reqwest = { version = \"0.11\", features = [\"json\"] } # reqwest with JSON parsing support\n",
    ":dep futures = \"0.3\" # for our async / await blocks\n",
    ":dep tokio = { version = \"1.12.0\", features = [\"full\"] } # for our async runtime"
   ]
  },
  {
   "cell_type": "markdown",
   "metadata": {},
   "source": []
  },
  {
   "cell_type": "code",
   "execution_count": 7,
   "metadata": {
    "vscode": {
     "languageId": "rust"
    }
   },
   "outputs": [],
   "source": [
    "use reqwest;\n",
    "\n",
    "// tokio let's us use \"async\" on our main function\n",
    "#[tokio::main]\n",
    "async fn call_reqwest() {\n",
    "    // chaining .await will yield our query result\n",
    "    let result = reqwest::get(\"https://api.spotify.com/v1/search\").await;\n",
    "    println!(\"{:?}\", result);\n",
    "}"
   ]
  },
  {
   "cell_type": "code",
   "execution_count": 8,
   "metadata": {
    "vscode": {
     "languageId": "rust"
    }
   },
   "outputs": [
    {
     "name": "stdout",
     "output_type": "stream",
     "text": [
      "Ok(Response { url: Url { scheme: \"https\", cannot_be_a_base: false, username: \"\", password: None, host: Some(Domain(\"api.spotify.com\")), port: None, path: \"/v1/search\", query: None, fragment: None }, status: 401, headers: {\"www-authenticate\": \"Bearer realm=\\\"spotify\\\"\", \"access-control-allow-origin\": \"*\", \"access-control-allow-headers\": \"Accept, App-Platform, Authorization, Content-Type, Origin, Retry-After, Spotify-App-Version, X-Cloud-Trace-Context, client-token, content-access-token\", \"access-control-allow-methods\": \"GET, POST, OPTIONS, PUT, DELETE, PATCH\", \"access-control-allow-credentials\": \"true\", \"access-control-max-age\": \"604800\", \"content-type\": \"application/json\", \"content-length\": \"74\", \"strict-transport-security\": \"max-age=31536000\", \"x-content-type-options\": \"nosniff\", \"vary\": \"Accept-Encoding\", \"date\": \"Wed, 20 Sep 2023 08:51:08 GMT\", \"server\": \"envoy\", \"via\": \"HTTP/2 edgeproxy, 1.1 google\", \"alt-svc\": \"h3=\\\":443\\\"; ma=2592000,h3-29=\\\":443\\\"; ma=2592000\"} })\n"
     ]
    }
   ],
   "source": [
    "call_reqwest();"
   ]
  },
  {
   "cell_type": "markdown",
   "metadata": {},
   "source": [
    "# reqwest IBKR gateway\n",
    "- TWS AND gateway must running"
   ]
  },
  {
   "cell_type": "code",
   "execution_count": 15,
   "metadata": {
    "vscode": {
     "languageId": "rust"
    }
   },
   "outputs": [],
   "source": [
    "use reqwest;\n",
    "\n",
    "// tokio let's us use \"async\" on our main function\n",
    "#[tokio::main]\n",
    "async fn call_gateway() {\n",
    "    // chaining .await will yield our query result\n",
    "    let base_url = \"https://localhost:5000/v1/api/\";\n",
    "    let endpoint = \"iserver/auth/status\";\n",
    "    let target_url = format!(\"{}{}\", base_url, endpoint);\n",
    "    \n",
    "    let result = reqwest::get(target_url).await;\n",
    "    \n",
    "    println!(\"{:?}\", result);\n",
    "}"
   ]
  },
  {
   "cell_type": "code",
   "execution_count": 16,
   "metadata": {
    "vscode": {
     "languageId": "rust"
    }
   },
   "outputs": [
    {
     "name": "stdout",
     "output_type": "stream",
     "text": [
      "Err(reqwest::Error { kind: Request, url: Url { scheme: \"https\", cannot_be_a_base: false, username: \"\", password: None, host: Some(Domain(\"localhost\")), port: Some(5000), path: \"/v1/api/iserver/auth/status\", query: None, fragment: None }, source: hyper::Error(Connect, ConnectError(\"tcp connect error\", Os { code: 111, kind: ConnectionRefused, message: \"Connection refused\" })) })\n"
     ]
    }
   ],
   "source": [
    "call_gateway();"
   ]
  }
 ],
 "metadata": {
  "kernelspec": {
   "display_name": "Rust",
   "language": "rust",
   "name": "rust"
  },
  "language_info": {
   "codemirror_mode": "rust",
   "file_extension": ".rs",
   "mimetype": "text/rust",
   "name": "Rust",
   "pygment_lexer": "rust",
   "version": ""
  },
  "orig_nbformat": 4
 },
 "nbformat": 4,
 "nbformat_minor": 2
}
